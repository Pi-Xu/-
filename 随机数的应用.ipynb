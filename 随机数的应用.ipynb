{
 "cells": [
  {
   "cell_type": "markdown",
   "metadata": {},
   "source": [
    "<h1 align=\"center\">随机数的应用</h1>\n",
    "\n",
    "# 理论\n",
    "\n",
    "[主要来自统计模拟及其R实现(武汉大学出版社, 2010)第3章]\n",
    "\n",
    "令 $g(X)$是一个函数, 假设我们要计算$\\theta$:\n",
    "\n",
    "$$\n",
    "\\theta = \\int_0^1 g(x) dx\n",
    "$$\n",
    "\n",
    "- 若$U$服从$(0,1)$上的均匀分布, 那么就有$\\theta = E[g(U)]$.\n",
    "- 若$U_1, U_2, \\cdots, U_k$是$(0,1)$上的均匀分布, 则有$g(U_1), g(U_2), \\cdots, g(U_k)$是均值为$\\theta$的独立同分布的变量.\n",
    "- 由强大数定律, 以概率1有\n",
    "\n",
    "$$\n",
    "\\sum_{i=1}^k \\frac{g(U_i)}{k} \\to E[g(U)] = \\theta , \\text{while} \\; \\; k \\to \\infty\n",
    "$$\n",
    "\n",
    "- 故能通过该方法产生大量随机数, 且取$g(U_i)$的平均值作为近似值\n",
    "- 该方法称为MonteCarlo方法.\n",
    "- **该部分的关键为如何将其转化为标准的形式:$\\theta = \\int_0^1 g(x)dx$**\n",
    "\n",
    "# 习题\n",
    "\n",
    "该部分习题主要选自统计模拟及其R实现(武汉大学出版社, 2010)第3章\n",
    "\n",
    "## 3.8 \n",
    "\n",
    "用模拟的方法近似计算下列积分,并和已知的精确答案进行比较.\n",
    "\n",
    "- (1) $\\int_{0}^{1}\\left(1-x^{4}\\right)^{3} \\mathrm{~d} x$\n",
    "- (2) $\\int_{0}^{\\infty} x\\left(1+x^{3}\\right)^{-4} \\mathrm{~d} x$\n",
    "- (3) $\\int_{-\\infty}^{\\infty} \\exp \\left\\{-x^{2}\\right\\} \\mathrm{d} x$\n",
    "- (4) $\\int_{0}^{\\infty} \\int_{0}^{x} 2 e^{-(2 x+y)} d y d x$\n",
    "[ 提示 : 令 $I_{y}(x)=\\left\\{\\begin{array}{l}1, \\text { 若 } y<x \\\\ 0, \\text { 否则 }\\end{array}\\right.$ ]\n",
    "\n",
    "### 答案\n",
    "\n",
    "#### (1)"
   ]
  },
  {
   "cell_type": "code",
   "execution_count": 1,
   "metadata": {},
   "outputs": [],
   "source": [
    "# 导入需要用的包\n",
    "import numpy as np\n",
    "from numpy import random\n",
    "from math import *\n",
    "from scipy import integrate"
   ]
  },
  {
   "cell_type": "code",
   "execution_count": 6,
   "metadata": {},
   "outputs": [
    {
     "data": {
      "text/plain": [
       "(0.6564102564102564, 7.287617802667694e-15)"
      ]
     },
     "execution_count": 6,
     "metadata": {},
     "output_type": "execute_result"
    }
   ],
   "source": [
    "# 首先使用integrate计算得出精确解\n",
    "gx = lambda x: (1-x**4)**3\n",
    "integrate.quad(gx,0,1) "
   ]
  },
  {
   "cell_type": "markdown",
   "metadata": {},
   "source": [
    "使用MC方法得到积分: \n",
    "- 首先产生均匀分布随机数\n",
    "- 代入`g()`函数, 求出其平均值"
   ]
  },
  {
   "cell_type": "code",
   "execution_count": 8,
   "metadata": {},
   "outputs": [
    {
     "data": {
      "text/plain": [
       "0.659848955067479"
      ]
     },
     "execution_count": 8,
     "metadata": {},
     "output_type": "execute_result"
    }
   ],
   "source": [
    "def eg3_8_1(size, low, high, func):\n",
    "    \"\"\"\n",
    "    - Input:\n",
    "        - size: The number of random numbers generated\n",
    "        - lower: Integral lower bound\n",
    "        - higher: Integral higher bound\n",
    "        - func: Function of g(x) mentioned above\n",
    "    - Return:\n",
    "        - mu: Estimate\n",
    "    \"\"\"\n",
    "    out = random.uniform(size = size)\n",
    "    mu = np.mean(\n",
    "        (high-low) * gx(low + (high-low)*out)\n",
    "    )\n",
    "\n",
    "    return mu\n",
    "\n",
    "random.seed(0)\n",
    "eg3_8_1(10000, 0, 1, gx)"
   ]
  },
  {
   "cell_type": "markdown",
   "metadata": {},
   "source": [
    "#### (2)\n",
    "\n",
    "- 此处逻辑与上一题相似, 首先求得精确解, 再通过模拟得到模拟值, 并于精确解进行比较.\n",
    "- 此处涉及了无穷积分, 所以需要对其进行变换才能得到相应的答案."
   ]
  },
  {
   "cell_type": "code",
   "execution_count": 10,
   "metadata": {},
   "outputs": [
    {
     "data": {
      "text/plain": [
       "(0.20899745760723498, 3.1354534066841486e-09)"
      ]
     },
     "execution_count": 10,
     "metadata": {},
     "output_type": "execute_result"
    }
   ],
   "source": [
    "gx = lambda x: x*(1+x**3)**(-4)\n",
    "integrate.quad(gx, 0, np.inf)"
   ]
  },
  {
   "cell_type": "markdown",
   "metadata": {},
   "source": [
    "首先需要对替换x:\n",
    "- 令$y = \\frac{1}{x+1}$\n",
    "- $dy = -\\frac{dx}{(x+1)^2} = -y^2dx$\n",
    "- $\\theta = \\int_0^1\\frac{g(y(x)^{-1})}{y^2}dy$\n",
    "\n",
    "**通过该题目进行总结: 使用$y=\\frac{1}{x+1}$对$[0,+\\infty]$进行放缩**"
   ]
  },
  {
   "cell_type": "code",
   "execution_count": 60,
   "metadata": {},
   "outputs": [
    {
     "data": {
      "text/plain": [
       "0.2091994137082532"
      ]
     },
     "execution_count": 60,
     "metadata": {},
     "output_type": "execute_result"
    }
   ],
   "source": [
    "dy_opposite = lambda y: y**2\n",
    "y_inverse = lambda y: 1/y-1\n",
    "\n",
    "def eg3_8_2(size, gx, dy_opposite, y_inverse):\n",
    "    y = random.uniform(size = size)\n",
    "    x = gx(y_inverse(y))/dy_opposite(y)\n",
    "\n",
    "    return np.mean(x)\n",
    "\n",
    "eg3_8_2(500000, gx, dy_opposite, y_inverse)"
   ]
  },
  {
   "cell_type": "markdown",
   "metadata": {},
   "source": [
    "#### (3)\n",
    "\n",
    "此处使用偶函数的性质, 其余内容和(2)相同"
   ]
  },
  {
   "cell_type": "code",
   "execution_count": 62,
   "metadata": {},
   "outputs": [
    {
     "data": {
      "text/plain": [
       "(1.7724538509055159, 1.4202636781830878e-08)"
      ]
     },
     "execution_count": 62,
     "metadata": {},
     "output_type": "execute_result"
    }
   ],
   "source": [
    "# 精确解\n",
    "\n",
    "gx = lambda x: np.exp(-x**2)\n",
    "\n",
    "integrate.quad(gx, -np.inf, +np.inf)"
   ]
  },
  {
   "cell_type": "code",
   "execution_count": 61,
   "metadata": {},
   "outputs": [
    {
     "data": {
      "text/plain": [
       "1.7699457915746983"
      ]
     },
     "execution_count": 61,
     "metadata": {},
     "output_type": "execute_result"
    }
   ],
   "source": [
    "\n",
    "def eg3_8_2(size, gx, dy_opposite, y_inverse):\n",
    "    y = random.uniform(size = size)\n",
    "    x = gx(y_inverse(y))/dy_opposite(y)\n",
    "\n",
    "    return np.mean(x)\n",
    "\n",
    "# 最后需要在结果中*2\n",
    "2 * eg3_8_2(500000, gx, dy_opposite, y_inverse)"
   ]
  },
  {
   "cell_type": "markdown",
   "metadata": {},
   "source": [
    "#### (4)\n",
    "\n",
    "----\n",
    "\n",
    "**计算多重积分的方法:**\n",
    "\n",
    "计算\n",
    "$$\n",
    "\\theta = \\int_0^1 \\int_0^1 \\cdots \\int_0^1 = g(x_1, x_2, \\cdots, x_n)dx_1dx_2\\cdots dx_n\n",
    "$$\n",
    "可以使用MonteCarlo方法进行估计:\n",
    "$$\n",
    "\\theta = E[g(U_1, U_2, \\cdots, U_n)]\n",
    "$$\n",
    "其中$U_1, U_2, \\cdots,U_n$是相互独立的(0,1)上的均匀分布.\n",
    "\n",
    "----\n",
    "\n",
    "在该小问中:\n",
    "- 此时的主要内容为二重积分\n",
    "- 关键点在于如何将x化为(0, 1)上的值\n",
    "\n",
    "所以, 根据提示可以得到:\n",
    "\n",
    "$$\n",
    "\\int_0^\\infty \\int_0^x 2e^{-(2x+y)}dydx = \\int_0^\\infty \\int_0^\\infty 2e^{-(2x+y)}\\cdot I_y(x)dydx\n",
    "$$\n",
    "\n",
    "此时可以通过(2), (3)的变换思路求得解答"
   ]
  },
  {
   "cell_type": "code",
   "execution_count": 123,
   "metadata": {},
   "outputs": [
    {
     "data": {
      "text/plain": [
       "(0.33333333333333315, 1.5988016020128278e-10)"
      ]
     },
     "execution_count": 123,
     "metadata": {},
     "output_type": "execute_result"
    }
   ],
   "source": [
    "I = lambda x, y: 1 if y < x else 0\n",
    "fx = lambda y, x: 2*np.exp(-2*x-y)\n",
    "gx = lambda x, y: fx(x, y)*I(x, y)\n",
    "\n",
    "integrate.dblquad(fx, 0, np.inf, 0, lambda x:x)"
   ]
  },
  {
   "cell_type": "code",
   "execution_count": 130,
   "metadata": {},
   "outputs": [
    {
     "data": {
      "text/plain": [
       "0.33261384054861776"
      ]
     },
     "execution_count": 130,
     "metadata": {},
     "output_type": "execute_result"
    }
   ],
   "source": [
    "I = lambda x, y: np.where(x<y, 0, 1)\n",
    "fx = lambda x, y: 2*np.exp(-2*x-y)\n",
    "gx = lambda x, y: fx(x, y)*I(x, y)\n",
    "\n",
    "def eg3_8_4(size, gx):\n",
    "    x, y = random.uniform(size = size), random.uniform(size = size)\n",
    "    out = gx(1/x-1,1/y-1)/(x**2 * y**2)\n",
    "    return np.mean(out)\n",
    "\n",
    "eg3_8_4(500000, gx)"
   ]
  },
  {
   "cell_type": "markdown",
   "metadata": {},
   "source": [
    "## 3.9\n",
    "\n",
    "用随机模拟的方法计算 $\\operatorname{Cov}\\left(U, \\mathrm{e}^{U}\\right)$, 其中 $U$ 是 $(0,1)$ 上的均匀随机变量,并和你的精确答案进行比较.\n",
    "\n",
    "### 答案"
   ]
  },
  {
   "cell_type": "code",
   "execution_count": 136,
   "metadata": {},
   "outputs": [
    {
     "data": {
      "text/plain": [
       "0.14035181020332033"
      ]
     },
     "execution_count": 136,
     "metadata": {},
     "output_type": "execute_result"
    }
   ],
   "source": [
    "# 模拟解\n",
    "U = random.uniform(size=100000)\n",
    "Cov = np.mean(U * np.exp(U)) - np.mean(U) * np.mean(np.exp(U))\n",
    "Cov"
   ]
  },
  {
   "cell_type": "code",
   "execution_count": 139,
   "metadata": {},
   "outputs": [
    {
     "data": {
      "text/plain": [
       "(0.1408590857704774, 4.84907016207406e-15)"
      ]
     },
     "execution_count": 139,
     "metadata": {},
     "output_type": "execute_result"
    }
   ],
   "source": [
    "# 精确解\n",
    "\n",
    "integrate.quad(lambda x: x*exp(x)-0.5*exp(x), 0, 1)"
   ]
  },
  {
   "cell_type": "code",
   "execution_count": null,
   "metadata": {},
   "outputs": [],
   "source": []
  }
 ],
 "metadata": {
  "interpreter": {
   "hash": "d59b92a5f9bdcea563f9a2c491f707fbdea763ce0564d33fd44b6f2c9829ca9d"
  },
  "kernelspec": {
   "display_name": "Python 3.7.0 64-bit ('base': conda)",
   "language": "python",
   "name": "python3"
  },
  "language_info": {
   "codemirror_mode": {
    "name": "ipython",
    "version": 3
   },
   "file_extension": ".py",
   "mimetype": "text/x-python",
   "name": "python",
   "nbconvert_exporter": "python",
   "pygments_lexer": "ipython3",
   "version": "3.7.0"
  },
  "orig_nbformat": 4
 },
 "nbformat": 4,
 "nbformat_minor": 2
}
